{
  "cells": [
    {
      "cell_type": "markdown",
      "metadata": {
        "id": "view-in-github",
        "colab_type": "text"
      },
      "source": [
        "<a href=\"https://colab.research.google.com/github/icarorodolfo27/PremierLeague/blob/main/An%C3%A1lise_Premier_League.ipynb\" target=\"_parent\"><img src=\"https://colab.research.google.com/assets/colab-badge.svg\" alt=\"Open In Colab\"/></a>"
      ]
    },
    {
      "cell_type": "code",
      "execution_count": null,
      "metadata": {
        "id": "nFghkdSQi7e0"
      },
      "outputs": [],
      "source": [
        "#Importando todas as bibliotecas que serão utilizadas\n",
        "import pandas as pd\n",
        "import matplotlib.pyplot as plt\n",
        "import seaborn as sns"
      ]
    },
    {
      "cell_type": "code",
      "execution_count": null,
      "metadata": {
        "id": "LgsWafHpi7e6"
      },
      "outputs": [],
      "source": [
        "#Primeiro, carregamos o arquivo com os dados da temporada 20/21 da Premier League\n",
        "EPL_stats = pd.read_csv('EPL_20_21.csv')"
      ]
    },
    {
      "cell_type": "code",
      "execution_count": null,
      "metadata": {
        "id": "P3wLqNu9i7e7",
        "outputId": "232c5ccf-7b75-41e1-bfcf-7120e82cf6c1"
      },
      "outputs": [
        {
          "data": {
            "text/html": [
              "<div>\n",
              "<style scoped>\n",
              "    .dataframe tbody tr th:only-of-type {\n",
              "        vertical-align: middle;\n",
              "    }\n",
              "\n",
              "    .dataframe tbody tr th {\n",
              "        vertical-align: top;\n",
              "    }\n",
              "\n",
              "    .dataframe thead th {\n",
              "        text-align: right;\n",
              "    }\n",
              "</style>\n",
              "<table border=\"1\" class=\"dataframe\">\n",
              "  <thead>\n",
              "    <tr style=\"text-align: right;\">\n",
              "      <th></th>\n",
              "      <th>Name</th>\n",
              "      <th>Club</th>\n",
              "      <th>Nationality</th>\n",
              "      <th>Position</th>\n",
              "      <th>Age</th>\n",
              "      <th>Matches</th>\n",
              "      <th>Starts</th>\n",
              "      <th>Mins</th>\n",
              "      <th>Goals</th>\n",
              "      <th>Assists</th>\n",
              "      <th>Passes_Attempted</th>\n",
              "      <th>Perc_Passes_Completed</th>\n",
              "      <th>Penalty_Goals</th>\n",
              "      <th>Penalty_Attempted</th>\n",
              "      <th>xG</th>\n",
              "      <th>xA</th>\n",
              "      <th>Yellow_Cards</th>\n",
              "      <th>Red_Cards</th>\n",
              "    </tr>\n",
              "  </thead>\n",
              "  <tbody>\n",
              "    <tr>\n",
              "      <th>0</th>\n",
              "      <td>Mason Mount</td>\n",
              "      <td>Chelsea</td>\n",
              "      <td>ENG</td>\n",
              "      <td>MF,FW</td>\n",
              "      <td>21</td>\n",
              "      <td>36</td>\n",
              "      <td>32</td>\n",
              "      <td>2890</td>\n",
              "      <td>6</td>\n",
              "      <td>5</td>\n",
              "      <td>1881</td>\n",
              "      <td>82.3</td>\n",
              "      <td>1</td>\n",
              "      <td>1</td>\n",
              "      <td>0.21</td>\n",
              "      <td>0.24</td>\n",
              "      <td>2</td>\n",
              "      <td>0</td>\n",
              "    </tr>\n",
              "    <tr>\n",
              "      <th>1</th>\n",
              "      <td>Edouard Mendy</td>\n",
              "      <td>Chelsea</td>\n",
              "      <td>SEN</td>\n",
              "      <td>GK</td>\n",
              "      <td>28</td>\n",
              "      <td>31</td>\n",
              "      <td>31</td>\n",
              "      <td>2745</td>\n",
              "      <td>0</td>\n",
              "      <td>0</td>\n",
              "      <td>1007</td>\n",
              "      <td>84.6</td>\n",
              "      <td>0</td>\n",
              "      <td>0</td>\n",
              "      <td>0.00</td>\n",
              "      <td>0.00</td>\n",
              "      <td>2</td>\n",
              "      <td>0</td>\n",
              "    </tr>\n",
              "    <tr>\n",
              "      <th>2</th>\n",
              "      <td>Timo Werner</td>\n",
              "      <td>Chelsea</td>\n",
              "      <td>GER</td>\n",
              "      <td>FW</td>\n",
              "      <td>24</td>\n",
              "      <td>35</td>\n",
              "      <td>29</td>\n",
              "      <td>2602</td>\n",
              "      <td>6</td>\n",
              "      <td>8</td>\n",
              "      <td>826</td>\n",
              "      <td>77.2</td>\n",
              "      <td>0</td>\n",
              "      <td>0</td>\n",
              "      <td>0.41</td>\n",
              "      <td>0.21</td>\n",
              "      <td>2</td>\n",
              "      <td>0</td>\n",
              "    </tr>\n",
              "    <tr>\n",
              "      <th>3</th>\n",
              "      <td>Ben Chilwell</td>\n",
              "      <td>Chelsea</td>\n",
              "      <td>ENG</td>\n",
              "      <td>DF</td>\n",
              "      <td>23</td>\n",
              "      <td>27</td>\n",
              "      <td>27</td>\n",
              "      <td>2286</td>\n",
              "      <td>3</td>\n",
              "      <td>5</td>\n",
              "      <td>1806</td>\n",
              "      <td>78.6</td>\n",
              "      <td>0</td>\n",
              "      <td>0</td>\n",
              "      <td>0.10</td>\n",
              "      <td>0.11</td>\n",
              "      <td>3</td>\n",
              "      <td>0</td>\n",
              "    </tr>\n",
              "    <tr>\n",
              "      <th>4</th>\n",
              "      <td>Reece James</td>\n",
              "      <td>Chelsea</td>\n",
              "      <td>ENG</td>\n",
              "      <td>DF</td>\n",
              "      <td>20</td>\n",
              "      <td>32</td>\n",
              "      <td>25</td>\n",
              "      <td>2373</td>\n",
              "      <td>1</td>\n",
              "      <td>2</td>\n",
              "      <td>1987</td>\n",
              "      <td>85.0</td>\n",
              "      <td>0</td>\n",
              "      <td>0</td>\n",
              "      <td>0.06</td>\n",
              "      <td>0.12</td>\n",
              "      <td>3</td>\n",
              "      <td>0</td>\n",
              "    </tr>\n",
              "  </tbody>\n",
              "</table>\n",
              "</div>"
            ],
            "text/plain": [
              "            Name     Club Nationality Position  Age  Matches  Starts  Mins  \\\n",
              "0    Mason Mount  Chelsea         ENG    MF,FW   21       36      32  2890   \n",
              "1  Edouard Mendy  Chelsea         SEN       GK   28       31      31  2745   \n",
              "2    Timo Werner  Chelsea         GER       FW   24       35      29  2602   \n",
              "3   Ben Chilwell  Chelsea         ENG       DF   23       27      27  2286   \n",
              "4    Reece James  Chelsea         ENG       DF   20       32      25  2373   \n",
              "\n",
              "   Goals  Assists  Passes_Attempted  Perc_Passes_Completed  Penalty_Goals  \\\n",
              "0      6        5              1881                   82.3              1   \n",
              "1      0        0              1007                   84.6              0   \n",
              "2      6        8               826                   77.2              0   \n",
              "3      3        5              1806                   78.6              0   \n",
              "4      1        2              1987                   85.0              0   \n",
              "\n",
              "   Penalty_Attempted    xG    xA  Yellow_Cards  Red_Cards  \n",
              "0                  1  0.21  0.24             2          0  \n",
              "1                  0  0.00  0.00             2          0  \n",
              "2                  0  0.41  0.21             2          0  \n",
              "3                  0  0.10  0.11             3          0  \n",
              "4                  0  0.06  0.12             3          0  "
            ]
          },
          "execution_count": 141,
          "metadata": {},
          "output_type": "execute_result"
        }
      ],
      "source": [
        "# Visualizando as primeiras linhas do Data Frame\n",
        "EPL_stats.head()"
      ]
    },
    {
      "cell_type": "code",
      "execution_count": null,
      "metadata": {
        "id": "_lNf-MyKi7e8",
        "outputId": "63686d9d-8c2c-43db-aa68-6fb2ff949d44"
      },
      "outputs": [
        {
          "data": {
            "text/plain": [
              "Club\n",
              "Arsenal                    53\n",
              "Aston Villa                52\n",
              "Brighton                   39\n",
              "Burnley                    32\n",
              "Chelsea                    56\n",
              "Crystal Palace             39\n",
              "Everton                    45\n",
              "Fulham                     26\n",
              "Leeds United               60\n",
              "Leicester City             64\n",
              "Liverpool FC               65\n",
              "Manchester City            82\n",
              "Manchester United          70\n",
              "Newcastle United           44\n",
              "Sheffield United           19\n",
              "Southampton                47\n",
              "Tottenham Hotspur          66\n",
              "West Bromwich Albion       33\n",
              "West Ham United            60\n",
              "Wolverhampton Wanderers    34\n",
              "Name: Goals, dtype: int64"
            ]
          },
          "execution_count": 142,
          "metadata": {},
          "output_type": "execute_result"
        }
      ],
      "source": [
        "#Agrupando a quantidade de gols por equipes na temporada\n",
        "sum_goals = EPL_stats.groupby('Club').Goals.sum()\n",
        "sum_goals"
      ]
    },
    {
      "cell_type": "code",
      "execution_count": null,
      "metadata": {
        "id": "w0lWEllGi7e9",
        "outputId": "f61127da-f611-4080-a317-ef349b3c0193"
      },
      "outputs": [
        {
          "data": {
            "text/plain": [
              "Club\n",
              "Arsenal                    3.66\n",
              "Aston Villa                3.28\n",
              "Brighton                   3.39\n",
              "Burnley                    2.17\n",
              "Chelsea                    3.70\n",
              "Crystal Palace             1.62\n",
              "Everton                    2.47\n",
              "Fulham                     2.99\n",
              "Leeds United               2.68\n",
              "Leicester City             3.35\n",
              "Liverpool FC               3.87\n",
              "Manchester City            3.88\n",
              "Manchester United          3.16\n",
              "Newcastle United           2.65\n",
              "Sheffield United           3.67\n",
              "Southampton                2.37\n",
              "Tottenham Hotspur          3.10\n",
              "West Bromwich Albion       2.41\n",
              "West Ham United            2.75\n",
              "Wolverhampton Wanderers    3.10\n",
              "Name: xG, dtype: float64"
            ]
          },
          "execution_count": 143,
          "metadata": {},
          "output_type": "execute_result"
        }
      ],
      "source": [
        "#Agrupando a expectativa de gols (que está em média por partida) por equipes na temporada\n",
        "sum_xG = EPL_stats.groupby('Club').xG.sum()\n",
        "sum_xG"
      ]
    },
    {
      "cell_type": "markdown",
      "metadata": {
        "id": "g36MrSlTi7e-"
      },
      "source": [
        "# Multiplicando a xG pela quantidade de \"matches\"\n",
        "\n",
        "Como a xG está em média por partida, é necessário multiplicá-la pela quandidade de jogos"
      ]
    },
    {
      "cell_type": "code",
      "execution_count": null,
      "metadata": {
        "id": "BppJCx72i7fA"
      },
      "outputs": [],
      "source": [
        "#Selecionando as colunas que eu quero trabalhar\n",
        "total_expected = EPL_stats[['Club', 'Goals', 'xG', 'Matches']].copy()\n",
        "#df0 = df.groupby('Club').sum()\n",
        "#df0.head()"
      ]
    },
    {
      "cell_type": "code",
      "execution_count": null,
      "metadata": {
        "id": "6rx0lqygi7fB",
        "outputId": "f5b6eadf-2d59-429e-888e-5df438d94673"
      },
      "outputs": [
        {
          "data": {
            "text/html": [
              "<div>\n",
              "<style scoped>\n",
              "    .dataframe tbody tr th:only-of-type {\n",
              "        vertical-align: middle;\n",
              "    }\n",
              "\n",
              "    .dataframe tbody tr th {\n",
              "        vertical-align: top;\n",
              "    }\n",
              "\n",
              "    .dataframe thead th {\n",
              "        text-align: right;\n",
              "    }\n",
              "</style>\n",
              "<table border=\"1\" class=\"dataframe\">\n",
              "  <thead>\n",
              "    <tr style=\"text-align: right;\">\n",
              "      <th></th>\n",
              "      <th>Club</th>\n",
              "      <th>Goals</th>\n",
              "      <th>xG</th>\n",
              "      <th>Matches</th>\n",
              "      <th>Total_xG</th>\n",
              "    </tr>\n",
              "  </thead>\n",
              "  <tbody>\n",
              "    <tr>\n",
              "      <th>0</th>\n",
              "      <td>Chelsea</td>\n",
              "      <td>6</td>\n",
              "      <td>0.21</td>\n",
              "      <td>36</td>\n",
              "      <td>7.56</td>\n",
              "    </tr>\n",
              "    <tr>\n",
              "      <th>1</th>\n",
              "      <td>Chelsea</td>\n",
              "      <td>0</td>\n",
              "      <td>0.00</td>\n",
              "      <td>31</td>\n",
              "      <td>0.00</td>\n",
              "    </tr>\n",
              "    <tr>\n",
              "      <th>2</th>\n",
              "      <td>Chelsea</td>\n",
              "      <td>6</td>\n",
              "      <td>0.41</td>\n",
              "      <td>35</td>\n",
              "      <td>14.35</td>\n",
              "    </tr>\n",
              "    <tr>\n",
              "      <th>3</th>\n",
              "      <td>Chelsea</td>\n",
              "      <td>3</td>\n",
              "      <td>0.10</td>\n",
              "      <td>27</td>\n",
              "      <td>2.70</td>\n",
              "    </tr>\n",
              "    <tr>\n",
              "      <th>4</th>\n",
              "      <td>Chelsea</td>\n",
              "      <td>1</td>\n",
              "      <td>0.06</td>\n",
              "      <td>32</td>\n",
              "      <td>1.92</td>\n",
              "    </tr>\n",
              "  </tbody>\n",
              "</table>\n",
              "</div>"
            ],
            "text/plain": [
              "      Club  Goals    xG  Matches  Total_xG\n",
              "0  Chelsea      6  0.21       36      7.56\n",
              "1  Chelsea      0  0.00       31      0.00\n",
              "2  Chelsea      6  0.41       35     14.35\n",
              "3  Chelsea      3  0.10       27      2.70\n",
              "4  Chelsea      1  0.06       32      1.92"
            ]
          },
          "execution_count": 160,
          "metadata": {},
          "output_type": "execute_result"
        }
      ],
      "source": [
        "total_expected['Total_xG'] = df['xG'] * df['Matches']\n",
        "\n",
        "total_expected.head()"
      ]
    },
    {
      "cell_type": "code",
      "execution_count": null,
      "metadata": {
        "id": "M1F3q3uJi7fC",
        "outputId": "ceb79867-a853-481d-8c7b-1c2495cccf9b"
      },
      "outputs": [
        {
          "data": {
            "text/html": [
              "<div>\n",
              "<style scoped>\n",
              "    .dataframe tbody tr th:only-of-type {\n",
              "        vertical-align: middle;\n",
              "    }\n",
              "\n",
              "    .dataframe tbody tr th {\n",
              "        vertical-align: top;\n",
              "    }\n",
              "\n",
              "    .dataframe thead th {\n",
              "        text-align: right;\n",
              "    }\n",
              "</style>\n",
              "<table border=\"1\" class=\"dataframe\">\n",
              "  <thead>\n",
              "    <tr style=\"text-align: right;\">\n",
              "      <th></th>\n",
              "      <th>Total_xG</th>\n",
              "      <th>Goals</th>\n",
              "    </tr>\n",
              "    <tr>\n",
              "      <th>Club</th>\n",
              "      <th></th>\n",
              "      <th></th>\n",
              "    </tr>\n",
              "  </thead>\n",
              "  <tbody>\n",
              "    <tr>\n",
              "      <th>Arsenal</th>\n",
              "      <td>80.95</td>\n",
              "      <td>53</td>\n",
              "    </tr>\n",
              "    <tr>\n",
              "      <th>Aston Villa</th>\n",
              "      <td>71.69</td>\n",
              "      <td>52</td>\n",
              "    </tr>\n",
              "    <tr>\n",
              "      <th>Brighton</th>\n",
              "      <td>74.19</td>\n",
              "      <td>39</td>\n",
              "    </tr>\n",
              "    <tr>\n",
              "      <th>Burnley</th>\n",
              "      <td>53.53</td>\n",
              "      <td>32</td>\n",
              "    </tr>\n",
              "    <tr>\n",
              "      <th>Chelsea</th>\n",
              "      <td>91.11</td>\n",
              "      <td>56</td>\n",
              "    </tr>\n",
              "  </tbody>\n",
              "</table>\n",
              "</div>"
            ],
            "text/plain": [
              "             Total_xG  Goals\n",
              "Club                        \n",
              "Arsenal         80.95     53\n",
              "Aston Villa     71.69     52\n",
              "Brighton        74.19     39\n",
              "Burnley         53.53     32\n",
              "Chelsea         91.11     56"
            ]
          },
          "execution_count": 161,
          "metadata": {},
          "output_type": "execute_result"
        }
      ],
      "source": [
        "#Somando a quantidade de gols e toda a xG por clubes\n",
        "team_xG = df.groupby('Club').agg({'Total_xG': 'sum', 'Goals': 'sum'})\n",
        "team_xG.head()"
      ]
    },
    {
      "cell_type": "code",
      "execution_count": null,
      "metadata": {
        "id": "Le03qpdmi7fD",
        "outputId": "e1fa9e00-ae3c-4d21-8d52-f111a54c060c"
      },
      "outputs": [
        {
          "data": {
            "text/html": [
              "<div>\n",
              "<style scoped>\n",
              "    .dataframe tbody tr th:only-of-type {\n",
              "        vertical-align: middle;\n",
              "    }\n",
              "\n",
              "    .dataframe tbody tr th {\n",
              "        vertical-align: top;\n",
              "    }\n",
              "\n",
              "    .dataframe thead th {\n",
              "        text-align: right;\n",
              "    }\n",
              "</style>\n",
              "<table border=\"1\" class=\"dataframe\">\n",
              "  <thead>\n",
              "    <tr style=\"text-align: right;\">\n",
              "      <th></th>\n",
              "      <th>Total_xG</th>\n",
              "      <th>Goals</th>\n",
              "    </tr>\n",
              "    <tr>\n",
              "      <th>Club</th>\n",
              "      <th></th>\n",
              "      <th></th>\n",
              "    </tr>\n",
              "  </thead>\n",
              "  <tbody>\n",
              "    <tr>\n",
              "      <th>Manchester City</th>\n",
              "      <td>94.09</td>\n",
              "      <td>82</td>\n",
              "    </tr>\n",
              "    <tr>\n",
              "      <th>Manchester United</th>\n",
              "      <td>79.41</td>\n",
              "      <td>70</td>\n",
              "    </tr>\n",
              "    <tr>\n",
              "      <th>Tottenham Hotspur</th>\n",
              "      <td>73.91</td>\n",
              "      <td>66</td>\n",
              "    </tr>\n",
              "    <tr>\n",
              "      <th>Liverpool FC</th>\n",
              "      <td>92.99</td>\n",
              "      <td>65</td>\n",
              "    </tr>\n",
              "    <tr>\n",
              "      <th>Leicester City</th>\n",
              "      <td>71.23</td>\n",
              "      <td>64</td>\n",
              "    </tr>\n",
              "    <tr>\n",
              "      <th>Leeds United</th>\n",
              "      <td>76.49</td>\n",
              "      <td>60</td>\n",
              "    </tr>\n",
              "    <tr>\n",
              "      <th>West Ham United</th>\n",
              "      <td>69.01</td>\n",
              "      <td>60</td>\n",
              "    </tr>\n",
              "    <tr>\n",
              "      <th>Chelsea</th>\n",
              "      <td>91.11</td>\n",
              "      <td>56</td>\n",
              "    </tr>\n",
              "    <tr>\n",
              "      <th>Arsenal</th>\n",
              "      <td>80.95</td>\n",
              "      <td>53</td>\n",
              "    </tr>\n",
              "    <tr>\n",
              "      <th>Aston Villa</th>\n",
              "      <td>71.69</td>\n",
              "      <td>52</td>\n",
              "    </tr>\n",
              "    <tr>\n",
              "      <th>Southampton</th>\n",
              "      <td>54.70</td>\n",
              "      <td>47</td>\n",
              "    </tr>\n",
              "    <tr>\n",
              "      <th>Everton</th>\n",
              "      <td>60.17</td>\n",
              "      <td>45</td>\n",
              "    </tr>\n",
              "    <tr>\n",
              "      <th>Newcastle United</th>\n",
              "      <td>59.11</td>\n",
              "      <td>44</td>\n",
              "    </tr>\n",
              "    <tr>\n",
              "      <th>Crystal Palace</th>\n",
              "      <td>43.09</td>\n",
              "      <td>39</td>\n",
              "    </tr>\n",
              "    <tr>\n",
              "      <th>Brighton</th>\n",
              "      <td>74.19</td>\n",
              "      <td>39</td>\n",
              "    </tr>\n",
              "    <tr>\n",
              "      <th>Wolverhampton Wanderers</th>\n",
              "      <td>57.46</td>\n",
              "      <td>34</td>\n",
              "    </tr>\n",
              "    <tr>\n",
              "      <th>West Bromwich Albion</th>\n",
              "      <td>47.30</td>\n",
              "      <td>33</td>\n",
              "    </tr>\n",
              "    <tr>\n",
              "      <th>Burnley</th>\n",
              "      <td>53.53</td>\n",
              "      <td>32</td>\n",
              "    </tr>\n",
              "    <tr>\n",
              "      <th>Fulham</th>\n",
              "      <td>58.25</td>\n",
              "      <td>26</td>\n",
              "    </tr>\n",
              "    <tr>\n",
              "      <th>Sheffield United</th>\n",
              "      <td>47.65</td>\n",
              "      <td>19</td>\n",
              "    </tr>\n",
              "  </tbody>\n",
              "</table>\n",
              "</div>"
            ],
            "text/plain": [
              "                         Total_xG  Goals\n",
              "Club                                    \n",
              "Manchester City             94.09     82\n",
              "Manchester United           79.41     70\n",
              "Tottenham Hotspur           73.91     66\n",
              "Liverpool FC                92.99     65\n",
              "Leicester City              71.23     64\n",
              "Leeds United                76.49     60\n",
              "West Ham United             69.01     60\n",
              "Chelsea                     91.11     56\n",
              "Arsenal                     80.95     53\n",
              "Aston Villa                 71.69     52\n",
              "Southampton                 54.70     47\n",
              "Everton                     60.17     45\n",
              "Newcastle United            59.11     44\n",
              "Crystal Palace              43.09     39\n",
              "Brighton                    74.19     39\n",
              "Wolverhampton Wanderers     57.46     34\n",
              "West Bromwich Albion        47.30     33\n",
              "Burnley                     53.53     32\n",
              "Fulham                      58.25     26\n",
              "Sheffield United            47.65     19"
            ]
          },
          "execution_count": 162,
          "metadata": {},
          "output_type": "execute_result"
        }
      ],
      "source": [
        "#Ordenando pelas equipes que mais marcaram gols\n",
        "\n",
        "team_xG.sort_values(by='Goals', ascending=False)"
      ]
    },
    {
      "cell_type": "code",
      "execution_count": null,
      "metadata": {
        "id": "TOjo-uHti7fE",
        "outputId": "780bcceb-ab23-4496-ab69-9572e152ad91"
      },
      "outputs": [
        {
          "data": {
            "text/plain": [
              "<AxesSubplot:xlabel='Goals', ylabel='Total_xG'>"
            ]
          },
          "execution_count": 173,
          "metadata": {},
          "output_type": "execute_result"
        },
        {
          "data": {
            "image/png": "[encoded data removed]",
            "text/plain": [
              "<Figure size 648x648 with 1 Axes>"
            ]
          },
          "metadata": {
            "needs_background": "light"
          },
          "output_type": "display_data"
        }
      ],
      "source": [
        "#Plotando um gráfico de dispersão para verificar a tendência entre gols e xG\n",
        "fig, ax = plt.subplots(figsize=(9, 9))\n",
        "\n",
        "sns.scatterplot(x='Goals', y='Total_xG', data=team_xG) #O gráfico aponta uma tendência positiva \n",
        "\n",
        "\n"
      ]
    },
    {
      "cell_type": "code",
      "execution_count": null,
      "metadata": {
        "id": "cs8Hgytbi7fE",
        "outputId": "bd4f8067-79a5-49eb-f4ce-1f731c0c7439"
      },
      "outputs": [
        {
          "data": {
            "text/html": [
              "<style  type=\"text/css\" >\n",
              "#T_3d8782fe_f736_11ec_8219_2cfda1c7f321row0_col0,#T_3d8782fe_f736_11ec_8219_2cfda1c7f321row1_col1{\n",
              "            background-color:  #053061;\n",
              "            color:  #f1f1f1;\n",
              "        }#T_3d8782fe_f736_11ec_8219_2cfda1c7f321row0_col1,#T_3d8782fe_f736_11ec_8219_2cfda1c7f321row1_col0{\n",
              "            background-color:  #67001f;\n",
              "            color:  #f1f1f1;\n",
              "        }</style><table id=\"T_3d8782fe_f736_11ec_8219_2cfda1c7f321\" ><thead>    <tr>        <th class=\"blank level0\" ></th>        <th class=\"col_heading level0 col0\" >Total_xG</th>        <th class=\"col_heading level0 col1\" >Goals</th>    </tr></thead><tbody>\n",
              "                <tr>\n",
              "                        <th id=\"T_3d8782fe_f736_11ec_8219_2cfda1c7f321level0_row0\" class=\"row_heading level0 row0\" >Total_xG</th>\n",
              "                        <td id=\"T_3d8782fe_f736_11ec_8219_2cfda1c7f321row0_col0\" class=\"data row0 col0\" >1.000000</td>\n",
              "                        <td id=\"T_3d8782fe_f736_11ec_8219_2cfda1c7f321row0_col1\" class=\"data row0 col1\" >0.804456</td>\n",
              "            </tr>\n",
              "            <tr>\n",
              "                        <th id=\"T_3d8782fe_f736_11ec_8219_2cfda1c7f321level0_row1\" class=\"row_heading level0 row1\" >Goals</th>\n",
              "                        <td id=\"T_3d8782fe_f736_11ec_8219_2cfda1c7f321row1_col0\" class=\"data row1 col0\" >0.804456</td>\n",
              "                        <td id=\"T_3d8782fe_f736_11ec_8219_2cfda1c7f321row1_col1\" class=\"data row1 col1\" >1.000000</td>\n",
              "            </tr>\n",
              "    </tbody></table>"
            ],
            "text/plain": [
              "<pandas.io.formats.style.Styler at 0x2371d30caf0>"
            ]
          },
          "execution_count": 171,
          "metadata": {},
          "output_type": "execute_result"
        }
      ],
      "source": [
        "#\n",
        "correlation = team_xG.corr()\n",
        "correlation.style.background_gradient(cmap='RdBu')"
      ]
    },
    {
      "cell_type": "markdown",
      "metadata": {
        "id": "a_V-MAe_i7fF"
      },
      "source": [
        "# Analisando individualmente a correlação entre gols e xG"
      ]
    },
    {
      "cell_type": "code",
      "execution_count": null,
      "metadata": {
        "id": "6cxQCT9Ei7fF",
        "outputId": "b1c35235-1d3c-42e6-e481-033813450be8"
      },
      "outputs": [
        {
          "data": {
            "text/html": [
              "<div>\n",
              "<style scoped>\n",
              "    .dataframe tbody tr th:only-of-type {\n",
              "        vertical-align: middle;\n",
              "    }\n",
              "\n",
              "    .dataframe tbody tr th {\n",
              "        vertical-align: top;\n",
              "    }\n",
              "\n",
              "    .dataframe thead th {\n",
              "        text-align: right;\n",
              "    }\n",
              "</style>\n",
              "<table border=\"1\" class=\"dataframe\">\n",
              "  <thead>\n",
              "    <tr style=\"text-align: right;\">\n",
              "      <th></th>\n",
              "      <th>Name</th>\n",
              "      <th>Club</th>\n",
              "      <th>Nationality</th>\n",
              "      <th>Position</th>\n",
              "      <th>Age</th>\n",
              "      <th>Matches</th>\n",
              "      <th>Starts</th>\n",
              "      <th>Mins</th>\n",
              "      <th>Goals</th>\n",
              "      <th>Assists</th>\n",
              "      <th>Passes_Attempted</th>\n",
              "      <th>Perc_Passes_Completed</th>\n",
              "      <th>Penalty_Goals</th>\n",
              "      <th>Penalty_Attempted</th>\n",
              "      <th>xG</th>\n",
              "      <th>xA</th>\n",
              "      <th>Yellow_Cards</th>\n",
              "      <th>Red_Cards</th>\n",
              "    </tr>\n",
              "  </thead>\n",
              "  <tbody>\n",
              "    <tr>\n",
              "      <th>0</th>\n",
              "      <td>Mason Mount</td>\n",
              "      <td>Chelsea</td>\n",
              "      <td>ENG</td>\n",
              "      <td>MF,FW</td>\n",
              "      <td>21</td>\n",
              "      <td>36</td>\n",
              "      <td>32</td>\n",
              "      <td>2890</td>\n",
              "      <td>6</td>\n",
              "      <td>5</td>\n",
              "      <td>1881</td>\n",
              "      <td>82.3</td>\n",
              "      <td>1</td>\n",
              "      <td>1</td>\n",
              "      <td>0.21</td>\n",
              "      <td>0.24</td>\n",
              "      <td>2</td>\n",
              "      <td>0</td>\n",
              "    </tr>\n",
              "    <tr>\n",
              "      <th>1</th>\n",
              "      <td>Edouard Mendy</td>\n",
              "      <td>Chelsea</td>\n",
              "      <td>SEN</td>\n",
              "      <td>GK</td>\n",
              "      <td>28</td>\n",
              "      <td>31</td>\n",
              "      <td>31</td>\n",
              "      <td>2745</td>\n",
              "      <td>0</td>\n",
              "      <td>0</td>\n",
              "      <td>1007</td>\n",
              "      <td>84.6</td>\n",
              "      <td>0</td>\n",
              "      <td>0</td>\n",
              "      <td>0.00</td>\n",
              "      <td>0.00</td>\n",
              "      <td>2</td>\n",
              "      <td>0</td>\n",
              "    </tr>\n",
              "    <tr>\n",
              "      <th>2</th>\n",
              "      <td>Timo Werner</td>\n",
              "      <td>Chelsea</td>\n",
              "      <td>GER</td>\n",
              "      <td>FW</td>\n",
              "      <td>24</td>\n",
              "      <td>35</td>\n",
              "      <td>29</td>\n",
              "      <td>2602</td>\n",
              "      <td>6</td>\n",
              "      <td>8</td>\n",
              "      <td>826</td>\n",
              "      <td>77.2</td>\n",
              "      <td>0</td>\n",
              "      <td>0</td>\n",
              "      <td>0.41</td>\n",
              "      <td>0.21</td>\n",
              "      <td>2</td>\n",
              "      <td>0</td>\n",
              "    </tr>\n",
              "    <tr>\n",
              "      <th>3</th>\n",
              "      <td>Ben Chilwell</td>\n",
              "      <td>Chelsea</td>\n",
              "      <td>ENG</td>\n",
              "      <td>DF</td>\n",
              "      <td>23</td>\n",
              "      <td>27</td>\n",
              "      <td>27</td>\n",
              "      <td>2286</td>\n",
              "      <td>3</td>\n",
              "      <td>5</td>\n",
              "      <td>1806</td>\n",
              "      <td>78.6</td>\n",
              "      <td>0</td>\n",
              "      <td>0</td>\n",
              "      <td>0.10</td>\n",
              "      <td>0.11</td>\n",
              "      <td>3</td>\n",
              "      <td>0</td>\n",
              "    </tr>\n",
              "    <tr>\n",
              "      <th>4</th>\n",
              "      <td>Reece James</td>\n",
              "      <td>Chelsea</td>\n",
              "      <td>ENG</td>\n",
              "      <td>DF</td>\n",
              "      <td>20</td>\n",
              "      <td>32</td>\n",
              "      <td>25</td>\n",
              "      <td>2373</td>\n",
              "      <td>1</td>\n",
              "      <td>2</td>\n",
              "      <td>1987</td>\n",
              "      <td>85.0</td>\n",
              "      <td>0</td>\n",
              "      <td>0</td>\n",
              "      <td>0.06</td>\n",
              "      <td>0.12</td>\n",
              "      <td>3</td>\n",
              "      <td>0</td>\n",
              "    </tr>\n",
              "  </tbody>\n",
              "</table>\n",
              "</div>"
            ],
            "text/plain": [
              "            Name     Club Nationality Position  Age  Matches  Starts  Mins  \\\n",
              "0    Mason Mount  Chelsea         ENG    MF,FW   21       36      32  2890   \n",
              "1  Edouard Mendy  Chelsea         SEN       GK   28       31      31  2745   \n",
              "2    Timo Werner  Chelsea         GER       FW   24       35      29  2602   \n",
              "3   Ben Chilwell  Chelsea         ENG       DF   23       27      27  2286   \n",
              "4    Reece James  Chelsea         ENG       DF   20       32      25  2373   \n",
              "\n",
              "   Goals  Assists  Passes_Attempted  Perc_Passes_Completed  Penalty_Goals  \\\n",
              "0      6        5              1881                   82.3              1   \n",
              "1      0        0              1007                   84.6              0   \n",
              "2      6        8               826                   77.2              0   \n",
              "3      3        5              1806                   78.6              0   \n",
              "4      1        2              1987                   85.0              0   \n",
              "\n",
              "   Penalty_Attempted    xG    xA  Yellow_Cards  Red_Cards  \n",
              "0                  1  0.21  0.24             2          0  \n",
              "1                  0  0.00  0.00             2          0  \n",
              "2                  0  0.41  0.21             2          0  \n",
              "3                  0  0.10  0.11             3          0  \n",
              "4                  0  0.06  0.12             3          0  "
            ]
          },
          "execution_count": 150,
          "metadata": {},
          "output_type": "execute_result"
        }
      ],
      "source": [
        "EPL_stats.head()"
      ]
    },
    {
      "cell_type": "code",
      "execution_count": null,
      "metadata": {
        "id": "hXFOlg6Ei7fG"
      },
      "outputs": [],
      "source": [
        "EPL_stats['Full_xG'] = EPL_stats['xG'] * EPL_stats['Matches']"
      ]
    },
    {
      "cell_type": "code",
      "execution_count": null,
      "metadata": {
        "id": "JnvyEyb5i7fG",
        "outputId": "1971e64b-4f98-4419-f842-2431f66af2b8"
      },
      "outputs": [
        {
          "data": {
            "text/plain": [
              "<AxesSubplot:xlabel='Full_xG', ylabel='Goals'>"
            ]
          },
          "execution_count": 172,
          "metadata": {},
          "output_type": "execute_result"
        },
        {
          "data": {
            "image/png": "[encoded data removed]",
            "text/plain": [
              "<Figure size 648x648 with 1 Axes>"
            ]
          },
          "metadata": {
            "needs_background": "light"
          },
          "output_type": "display_data"
        }
      ],
      "source": [
        "fig, ax = plt.subplots(figsize=(9, 9))\n",
        "sns.scatterplot(x='Full_xG', y='Goals', data=EPL_stats)"
      ]
    },
    {
      "cell_type": "code",
      "execution_count": null,
      "metadata": {
        "id": "tSZNxIB3i7fH",
        "outputId": "c7fb4f31-8151-4e3b-bb93-502bc509c94d"
      },
      "outputs": [
        {
          "data": {
            "text/html": [
              "<style  type=\"text/css\" >\n",
              "#T_1c2637be_f7f5_11ec_84a0_2cfda1c7f321row0_col0,#T_1c2637be_f7f5_11ec_84a0_2cfda1c7f321row1_col1{\n",
              "            background-color:  #053061;\n",
              "            color:  #f1f1f1;\n",
              "        }#T_1c2637be_f7f5_11ec_84a0_2cfda1c7f321row0_col1,#T_1c2637be_f7f5_11ec_84a0_2cfda1c7f321row1_col0{\n",
              "            background-color:  #67001f;\n",
              "            color:  #f1f1f1;\n",
              "        }</style><table id=\"T_1c2637be_f7f5_11ec_84a0_2cfda1c7f321\" ><thead>    <tr>        <th class=\"blank level0\" ></th>        <th class=\"col_heading level0 col0\" >Goals</th>        <th class=\"col_heading level0 col1\" >Full_xG</th>    </tr></thead><tbody>\n",
              "                <tr>\n",
              "                        <th id=\"T_1c2637be_f7f5_11ec_84a0_2cfda1c7f321level0_row0\" class=\"row_heading level0 row0\" >Goals</th>\n",
              "                        <td id=\"T_1c2637be_f7f5_11ec_84a0_2cfda1c7f321row0_col0\" class=\"data row0 col0\" >1.000000</td>\n",
              "                        <td id=\"T_1c2637be_f7f5_11ec_84a0_2cfda1c7f321row0_col1\" class=\"data row0 col1\" >0.896202</td>\n",
              "            </tr>\n",
              "            <tr>\n",
              "                        <th id=\"T_1c2637be_f7f5_11ec_84a0_2cfda1c7f321level0_row1\" class=\"row_heading level0 row1\" >Full_xG</th>\n",
              "                        <td id=\"T_1c2637be_f7f5_11ec_84a0_2cfda1c7f321row1_col0\" class=\"data row1 col0\" >0.896202</td>\n",
              "                        <td id=\"T_1c2637be_f7f5_11ec_84a0_2cfda1c7f321row1_col1\" class=\"data row1 col1\" >1.000000</td>\n",
              "            </tr>\n",
              "    </tbody></table>"
            ],
            "text/plain": [
              "<pandas.io.formats.style.Styler at 0x23718ad6eb0>"
            ]
          },
          "execution_count": 184,
          "metadata": {},
          "output_type": "execute_result"
        }
      ],
      "source": [
        "cor = EPL_stats[['Goals', 'Full_xG']].corr()\n",
        "cor.style.background_gradient(cmap='RdBu')"
      ]
    },
    {
      "cell_type": "code",
      "execution_count": null,
      "metadata": {
        "id": "FGprtJL2i7fH"
      },
      "outputs": [],
      "source": [
        ""
      ]
    }
  ],
  "metadata": {
    "kernelspec": {
      "display_name": "Python 3",
      "language": "python",
      "name": "python3"
    },
    "language_info": {
      "codemirror_mode": {
        "name": "ipython",
        "version": 3
      },
      "file_extension": ".py",
      "mimetype": "text/x-python",
      "name": "python",
      "nbconvert_exporter": "python",
      "pygments_lexer": "ipython3",
      "version": "3.8.5"
    },
    "colab": {
      "name": "Análise Premier League.ipynb",
      "provenance": [],
      "include_colab_link": true
    }
  },
  "nbformat": 4,
  "nbformat_minor": 0
}